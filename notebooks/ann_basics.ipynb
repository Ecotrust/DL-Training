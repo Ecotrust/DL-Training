{
 "cells": [
  {
   "cell_type": "markdown",
   "metadata": {},
   "source": [
    "# ANN - Perceptron\n",
    "\n",
    "Example from: [Two Layer Artificial Neural Networks](https://www.sfu.ca/iat813/lectures/lecture7.html)"
   ]
  },
  {
   "cell_type": "code",
   "execution_count": 1,
   "metadata": {},
   "outputs": [],
   "source": [
    "import numpy as np\n",
    "import matplotlib.pyplot as plt\n",
    "from IPython.display import Image, HTML"
   ]
  },
  {
   "cell_type": "code",
   "execution_count": 2,
   "metadata": {},
   "outputs": [
    {
     "data": {
      "image/png": "[encoded data removed]",
      "text/plain": [
       "<Figure size 576x288 with 2 Axes>"
      ]
     },
     "metadata": {
      "needs_background": "light"
     },
     "output_type": "display_data"
    }
   ],
   "source": [
    "fig=plt.figure(figsize=(8, 4))\n",
    "\n",
    "# make up some data for demo purposes\n",
    "bright = np.array([[-1,1],[1,1]])\n",
    "dark = np.array([[-1,-1],[1,-1]])\n",
    "\n",
    "fig.add_subplot(1, 2, 1)\n",
    "plt.title('bright')\n",
    "plt.imshow(bright, cmap=plt.cm.gray)\n",
    "\n",
    "fig.add_subplot(1, 2, 2) \n",
    "plt.title('dark')\n",
    "plt.imshow(dark, cmap=plt.cm.gray)\n",
    "plt.show()"
   ]
  },
  {
   "cell_type": "code",
   "execution_count": 6,
   "metadata": {},
   "outputs": [
    {
     "data": {
      "text/html": [
       "<img src=\"figures/perceptron.jpg\"/>"
      ],
      "text/plain": [
       "<IPython.core.display.Image object>"
      ]
     },
     "execution_count": 6,
     "metadata": {},
     "output_type": "execute_result"
    }
   ],
   "source": [
    "Image(url='figures/perceptron.jpg')"
   ]
  },
  {
   "cell_type": "code",
   "execution_count": 4,
   "metadata": {},
   "outputs": [
    {
     "name": "stdout",
     "output_type": "stream",
     "text": [
      "Image is bright: 1\n"
     ]
    }
   ],
   "source": [
    "w = np.array([[0.25, 0.25],[0.25, 0.25]])\n",
    "s = (bright*w).sum()\n",
    "\n",
    "# Classification rule\n",
    "if s > -0.1:\n",
    "    print('Image is bright: 1')\n",
    "else:\n",
    "    print('Image is dark: -1')"
   ]
  },
  {
   "cell_type": "code",
   "execution_count": 5,
   "metadata": {},
   "outputs": [
    {
     "name": "stdout",
     "output_type": "stream",
     "text": [
      "Image is dark: -1\n"
     ]
    }
   ],
   "source": [
    "s = (dark*w).sum()\n",
    "\n",
    "# Classification rule\n",
    "if s > -0.1:\n",
    "    print('Image is bright: 1')\n",
    "else:\n",
    "    print('Image is dark: -1')"
   ]
  },
  {
   "cell_type": "markdown",
   "metadata": {},
   "source": [
    "# Learning: adjusting weights to improve classification.\n",
    "\n",
    "$\\Delta = \\eta (t(E) - o(E))x_i$\n",
    "\n",
    "$\\eta$ is the learning rate. Usually $\\eta$ is small, between 0.1 and 0.5. In gradient descent algorithms, $\\eta$ is the step size and decreases as the algorithm progresses.\n",
    "\n",
    "Perceptron training rule\n",
    "\n",
    "If training example is classified correctly, then do nothing.\n",
    "If training example is classified incorrectly, then adjust weights by adding a small value.\n",
    "\n"
   ]
  },
  {
   "cell_type": "code",
   "execution_count": null,
   "metadata": {},
   "outputs": [],
   "source": []
  }
 ],
 "metadata": {
  "kernelspec": {
   "display_name": "Python 3.9.12 ('dl-env')",
   "language": "python",
   "name": "python3"
  },
  "language_info": {
   "codemirror_mode": {
    "name": "ipython",
    "version": 3
   },
   "file_extension": ".py",
   "mimetype": "text/x-python",
   "name": "python",
   "nbconvert_exporter": "python",
   "pygments_lexer": "ipython3",
   "version": "3.9.13"
  },
  "orig_nbformat": 4,
  "vscode": {
   "interpreter": {
    "hash": "22b4c44e3c50a171eec18a53d4a2ddea7382ccef91107100631ee18d9931920c"
   }
  }
 },
 "nbformat": 4,
 "nbformat_minor": 2
}
