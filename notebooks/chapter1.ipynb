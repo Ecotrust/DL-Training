{
  "cells": [
    {
      "cell_type": "markdown",
      "metadata": {},
      "source": [
        "Notes from Chapter 1 of the book \"Modern computer vision with pytorch\" by V. Kishore Ayyadevara and Yeshwanth Reddy (2020).\n",
        "\n",
        "This notebook was modified from the original version available [here](https://github.com/PacktPublishing/Modern-Computer-Vision-with-PyTorch/blob/master/Chapter01/Chain_rule.ipynb)."
      ]
    },
    {
      "cell_type": "markdown",
      "metadata": {
        "id": "1BH_Y4RhiQzB"
      },
      "source": [
        "# Feedforward propagation\n",
        "\n",
        "Feedforward propagation is the process where the input is propagated through the network to produce the output. There are three steps involved: pre-activation, activation, and post-activation. During the pre-activation phase, the hidden layer is obtained by computing the sum of the product of inputs and weights. During the activation phase, we apply a non-linear activation function $f$ to the hidden layer. Finally, the post-activation consist in the computation of the sum of products of the hidden layer activation values and the weights to produce the output ($a$).  \n",
        "\n",
        "$a = f(w_0 + \\sum_{i=1}^{n} w_ix_i)$\n",
        "\n",
        "where \n",
        "\n",
        "$a$ is the output or prediction outcome as a continuous or discrete variable.\n",
        "\n",
        "$f$ is the activation function.\n",
        "\n",
        "$w_0$ is the bias term.\n",
        "\n",
        "$w_i$ are the weights that link input, hidden, and output layers.\n",
        "\n",
        "$x_i$ are the input values. "
      ]
    },
    {
      "cell_type": "code",
      "execution_count": 1,
      "metadata": {
        "ExecuteTime": {
          "end_time": "2020-09-24T13:23:27.984719Z",
          "start_time": "2020-09-24T13:23:27.929962Z"
        },
        "id": "i5WpgCBbm_Jc"
      },
      "outputs": [],
      "source": [
        "from copy import deepcopy\n",
        "import numpy as np\n",
        "\n",
        "def line():\n",
        "    print('='*80)\n",
        "\n",
        "def feed_forward(inputs, outputs, weights):\n",
        "    '''Implements feedfordward propagation.\n",
        "    \n",
        "    Parameters\n",
        "    ----------\n",
        "    inputs: nxm array\n",
        "      Training input layer (x_i)\n",
        "    outputs: 1xm array\n",
        "      Training output layer (a)\n",
        "    weights: list with w_0 and w_i arrays.\n",
        "      Weights or links connecting input, hidden, and output layers\n",
        "    \n",
        "    Returns\n",
        "    -------\n",
        "    float\n",
        "      Loss as the Mean Square Error (MSE).\n",
        "    '''\n",
        "    # Pre-activation\n",
        "    # Calculate hidden layer as the product w_i*x_i (dot product for matrix multiplication) plus the bias.\n",
        "    # weights[0] are the weights connecting input layer with hidden layer. \n",
        "    # weights[1] are the bias w_0 associated with the hidden layer.\n",
        "    pre_hidden = np.dot(inputs, weights[0]) + weights[1]\n",
        "    \n",
        "    # Activation\n",
        "    # Apply f as a sigmoid activation function.\n",
        "    hidden = 1/(1+np.exp(-pre_hidden))\n",
        "\n",
        "    # Post-activation\n",
        "    # Calculate the output layer (a)\n",
        "    # weights[2] are the weights connecting the hidden layer with the output layer. \n",
        "    # weights[3] are the bias associated with the output layer.\n",
        "    out = np.dot(hidden, weights[2]) + weights[3]\n",
        "    \n",
        "    # Calculate the loss as the MSE \n",
        "    mean_squared_error = np.mean(np.square(out - outputs))\n",
        "\n",
        "    return mean_squared_error"
      ]
    },
    {
      "cell_type": "markdown",
      "metadata": {
        "id": "G7mc04emjTCa"
      },
      "source": [
        "# Backpropagation\n",
        "\n",
        "During backpropagation, the weights are adjusted to minimize the error (loss). The process consists of adjusting the weights one at a time by a small amount.\n",
        "\n",
        "Steps:\n",
        "\n",
        "1. Change one weight at a time by adding a small amount to it.\n",
        "2. Calculate the change in the loss induced by this change.\n",
        "3. Update the weight by $-k \\frac {\\delta L}{\\delta W}$, where $k$ is the learning rate.\n",
        "4. Repeat steps 1-3 n *epochs* or iterations over the entire dataset."
      ]
    },
    {
      "cell_type": "code",
      "execution_count": 2,
      "metadata": {
        "ExecuteTime": {
          "end_time": "2020-09-24T13:23:27.989715Z",
          "start_time": "2020-09-24T13:23:27.985804Z"
        },
        "id": "YKQpTWlSnCwc"
      },
      "outputs": [],
      "source": [
        "def update_weights(inputs, outputs, weights, k):\n",
        "    '''Implements gradient descent to update weights.\n",
        "    \n",
        "    Parameters\n",
        "    ----------\n",
        "    inputs: nxm array\n",
        "      Training input layer (x_i)\n",
        "    outputs: nx1 array\n",
        "      Training output layer (a)\n",
        "    weights: list with w_0 and w_i arrays.\n",
        "      Weights or links connecting input, hidden, and output layers\n",
        "    k: float\n",
        "      Learning rate\n",
        "    \n",
        "    Returns\n",
        "    -------\n",
        "    (list, list)\n",
        "      Tuple with list of updated weights and list of original weights\n",
        "    '''\n",
        "    # Create copies of the original weights list.\n",
        "    original_weights = deepcopy(weights)\n",
        "    temp_weights = deepcopy(weights)\n",
        "    updated_weights = deepcopy(weights)\n",
        "\n",
        "    # Calculate loss with original set of weights.\n",
        "    original_loss = feed_forward(inputs, outputs, original_weights)\n",
        "\n",
        "    # Iterate through each weight in all 4 layers. \n",
        "    for i, layer in enumerate(original_weights):\n",
        "        for index, weight in np.ndenumerate(layer):\n",
        "            temp_weights = deepcopy(weights)\n",
        "            # Update one weight at a time by a small amount.\n",
        "            temp_weights[i][index] += 0.0001\n",
        "            # Re-calculate loss with updated weight.\n",
        "            _loss_plus = feed_forward(inputs, outputs, temp_weights)\n",
        "            # Calculate the gradient of the loss with respect to the weight.\n",
        "            grad = (_loss_plus - original_loss)/(0.0001)\n",
        "            # Reduce the weight in proportion to the gradient multiplied by the learning rate (lr).\n",
        "            updated_weights[i][index] -= grad*k\n",
        "\n",
        "    return updated_weights, original_loss"
      ]
    },
    {
      "cell_type": "code",
      "execution_count": 3,
      "metadata": {
        "ExecuteTime": {
          "end_time": "2020-09-24T13:23:28.000882Z",
          "start_time": "2020-09-24T13:23:27.991191Z"
        },
        "colab": {
          "base_uri": "https://localhost:8080/"
        },
        "id": "Vp9I03hRnh2G",
        "outputId": "1f911858-3eb9-4b19-c281-9c46f845c48b"
      },
      "outputs": [],
      "source": [
        "# Generate random inputs and outputs.\n",
        "x = np.array([[1,1]]) \n",
        "y = np.array([[0]])  \n",
        "W = [\n",
        "    # Weights connecting input layer with hidden layer.\n",
        "    np.array([[-0.0053, 0.3793],\n",
        "              [-0.5820, -0.5204],\n",
        "              [-0.2723, 0.1896]], dtype=np.float32).T, \n",
        "    # Bias connecting input layer with hidden layer.\n",
        "    np.array([-0.0140, 0.5607, -0.0628], dtype=np.float32), \n",
        "    # Weights connecting hidden layer with output layer.\n",
        "    np.array([[ 0.1528, -0.1745, -0.1135]], dtype=np.float32).T, \n",
        "    # Bias connecting hidden layer with output layer.\n",
        "    np.array([-0.5516], dtype=np.float32)\n",
        "]"
      ]
    },
    {
      "cell_type": "code",
      "execution_count": 4,
      "metadata": {},
      "outputs": [
        {
          "data": {
            "text/plain": [
              "Text(0.5, 1.0, 'Loss over increasing number of epochs')"
            ]
          },
          "execution_count": 4,
          "metadata": {},
          "output_type": "execute_result"
        },
        {
          "data": {
            "image/png": "[encoded data removed]",
            "text/plain": [
              "<Figure size 432x288 with 1 Axes>"
            ]
          },
          "metadata": {
            "needs_background": "light"
          },
          "output_type": "display_data"
        }
      ],
      "source": [
        "import matplotlib.pyplot as plt\n",
        "\n",
        "losses = []\n",
        "w = deepcopy(W)\n",
        "for epoch in range(100):\n",
        "    w, loss = update_weights(x,y,w,0.01)\n",
        "    losses.append(loss)\n",
        "plt.plot(losses)\n",
        "plt.title('Loss over increasing number of epochs')"
      ]
    },
    {
      "cell_type": "markdown",
      "metadata": {
        "id": "3llIoQD7xMJf"
      },
      "source": [
        "# Backpropagation using the Chain Rule\n",
        "\n",
        "Calculate the change in loss value (C) using the chain rule. As an example, consider the following equation to calculate the change in loss value (C) with respect a single weight ($w_{11}$):\n",
        "\n",
        "$\\frac {\\delta C}{\\delta w_{11}} = \\frac {\\delta C}{\\delta \\hat y} \\cdot \\frac {\\delta \\hat y}{\\delta a_{11}} \\cdot \\frac {\\delta a_{11}}{\\delta h_{11}} \\cdot \\frac {\\delta h_{11}}{\\delta w_{11}}$\n",
        "\n",
        "where $\\hat y$ is the predicted value, $a_{11}$ is a sigmoid activation function, and $h_{11}$ is the hidden layer."
      ]
    },
    {
      "cell_type": "markdown",
      "metadata": {},
      "source": [
        "Calculate $\\hat y$, $a_{11}$, and $h_{11}$ for weight $w_{11}$."
      ]
    },
    {
      "cell_type": "code",
      "execution_count": 5,
      "metadata": {
        "ExecuteTime": {
          "end_time": "2020-09-24T13:23:28.004119Z",
          "start_time": "2020-09-24T13:23:28.001851Z"
        },
        "id": "fSSV-hAcufCd"
      },
      "outputs": [],
      "source": [
        "pre_hidden = np.dot(x, W[0]) + W[1]\n",
        "hidden = 1/(1+np.exp(-pre_hidden))\n",
        "predicted_value = np.dot(hidden, W[2]) + W[3]\n",
        "\n",
        "y_hat = predicted_value[0][0]\n",
        "y = 0 \n",
        "w_11 = W[0][0][0]\n",
        "w_21 = W[2][0][0]\n",
        "a_11 = hidden[0, 0]\n",
        "x_1 = x[0][0]"
      ]
    },
    {
      "cell_type": "code",
      "execution_count": 6,
      "metadata": {
        "ExecuteTime": {
          "end_time": "2020-09-24T13:23:28.008250Z",
          "start_time": "2020-09-24T13:23:28.004921Z"
        },
        "colab": {
          "base_uri": "https://localhost:8080/",
          "height": 34
        },
        "id": "juDL0c_fwp0c",
        "outputId": "2cbf40fa-41ad-4b42-bc94-56b2496f2dfe"
      },
      "outputs": [
        {
          "name": "stdout",
          "output_type": "stream",
          "text": [
            "0.03748860333147175 0.037488014\n"
          ]
        }
      ],
      "source": [
        "updated_weights, _ = update_weights(x,y,W,1)\n",
        "\n",
        "tmp = w_11 - (-2*(y-y_hat)*(w_21)*a_11*(1-a_11)*x_1)\n",
        "print(tmp, updated_weights[0][0][0])"
      ]
    },
    {
      "cell_type": "markdown",
      "metadata": {},
      "source": [
        "Solving the partial derivatives of the loss function with respect to weight $w_{11}$, we get the following equation:\n",
        "\n",
        "$\\frac {\\delta C}{\\delta w_{11}} = -2 \\cdot (y - \\hat y) \\cdot w_{21} \\cdot a_{11} \\cdot (1 - a_{11}) \\cdot x_1$"
      ]
    },
    {
      "cell_type": "code",
      "execution_count": 7,
      "metadata": {},
      "outputs": [],
      "source": [
        "def cr_solver(w, w2, a, x):\n",
        "    '''Update weight w using the Chain Rule.\n",
        "\n",
        "    Parameters\n",
        "    ----------\n",
        "    w: float\n",
        "        Weight to modify\n",
        "    w2: float\n",
        "        Partial derivative of y_hat with respect to the activation a_i.\n",
        "    a: float\n",
        "        Activation value of the hidden layer.\n",
        "    x: int\n",
        "        Input value of the input layer.\n",
        "    \n",
        "    Returns\n",
        "    -------\n",
        "    float \n",
        "        New weight value.\n",
        "    '''\n",
        "    return w - (-2*(y-y_hat)*(w2)*a*(1-a)*x)"
      ]
    },
    {
      "cell_type": "code",
      "execution_count": 11,
      "metadata": {},
      "outputs": [
        {
          "data": {
            "text/html": [
              "<div>\n",
              "<style scoped>\n",
              "    .dataframe tbody tr th:only-of-type {\n",
              "        vertical-align: middle;\n",
              "    }\n",
              "\n",
              "    .dataframe tbody tr th {\n",
              "        vertical-align: top;\n",
              "    }\n",
              "\n",
              "    .dataframe thead th {\n",
              "        text-align: right;\n",
              "    }\n",
              "</style>\n",
              "<table border=\"1\" class=\"dataframe\">\n",
              "  <thead>\n",
              "    <tr style=\"text-align: right;\">\n",
              "      <th></th>\n",
              "      <th>weight</th>\n",
              "      <th>w2</th>\n",
              "      <th>a</th>\n",
              "      <th>update_weights</th>\n",
              "      <th>cr_solver</th>\n",
              "    </tr>\n",
              "  </thead>\n",
              "  <tbody>\n",
              "    <tr>\n",
              "      <th>0</th>\n",
              "      <td>-0.0053</td>\n",
              "      <td>0.1528</td>\n",
              "      <td>0.589040</td>\n",
              "      <td>0.037488</td>\n",
              "      <td>0.037489</td>\n",
              "    </tr>\n",
              "    <tr>\n",
              "      <th>1</th>\n",
              "      <td>-0.5820</td>\n",
              "      <td>-0.1745</td>\n",
              "      <td>0.367792</td>\n",
              "      <td>-0.628946</td>\n",
              "      <td>-0.628937</td>\n",
              "    </tr>\n",
              "    <tr>\n",
              "      <th>2</th>\n",
              "      <td>-0.2723</td>\n",
              "      <td>-0.1135</td>\n",
              "      <td>0.463689</td>\n",
              "      <td>-0.304947</td>\n",
              "      <td>-0.304951</td>\n",
              "    </tr>\n",
              "    <tr>\n",
              "      <th>3</th>\n",
              "      <td>0.3793</td>\n",
              "      <td>0.1528</td>\n",
              "      <td>0.589040</td>\n",
              "      <td>0.422082</td>\n",
              "      <td>0.422089</td>\n",
              "    </tr>\n",
              "    <tr>\n",
              "      <th>4</th>\n",
              "      <td>-0.5204</td>\n",
              "      <td>-0.1745</td>\n",
              "      <td>0.367792</td>\n",
              "      <td>-0.567346</td>\n",
              "      <td>-0.567337</td>\n",
              "    </tr>\n",
              "    <tr>\n",
              "      <th>5</th>\n",
              "      <td>0.1896</td>\n",
              "      <td>-0.1135</td>\n",
              "      <td>0.463689</td>\n",
              "      <td>0.156948</td>\n",
              "      <td>0.156949</td>\n",
              "    </tr>\n",
              "  </tbody>\n",
              "</table>\n",
              "</div>"
            ],
            "text/plain": [
              "   weight      w2         a  update_weights  cr_solver\n",
              "0 -0.0053  0.1528  0.589040        0.037488   0.037489\n",
              "1 -0.5820 -0.1745  0.367792       -0.628946  -0.628937\n",
              "2 -0.2723 -0.1135  0.463689       -0.304947  -0.304951\n",
              "3  0.3793  0.1528  0.589040        0.422082   0.422089\n",
              "4 -0.5204 -0.1745  0.367792       -0.567346  -0.567337\n",
              "5  0.1896 -0.1135  0.463689        0.156948   0.156949"
            ]
          },
          "execution_count": 11,
          "metadata": {},
          "output_type": "execute_result"
        }
      ],
      "source": [
        "# Update pre-activation weights.\n",
        "\n",
        "import pandas as pd\n",
        "\n",
        "df = pd.DataFrame(columns=['weight', 'w2', 'a', 'update_weights', 'cr_solver'])\n",
        "# Extract parameters.\n",
        "df['weight'] = W[0].flatten()\n",
        "df['w2'] = np.array([W[2],W[2]]).flatten()\n",
        "df['a'] = np.array([hidden[0], hidden[0]]).flatten()\n",
        "# Extract new weights calculated by update_weights function.\n",
        "df['update_weights'] = updated_weights[0].flatten()\n",
        "# Calculate new weights using the Chain Rule.\n",
        "df['cr_solver'] = df.apply(lambda row: cr_solver(row['weight'], row['w2'], row['a'], 1), axis=1)\n",
        "df"
      ]
    },
    {
      "cell_type": "markdown",
      "metadata": {},
      "source": [
        "----------------------------------\n",
        "\n",
        "Calculate the change in loss and update w one by one."
      ]
    },
    {
      "cell_type": "code",
      "execution_count": 13,
      "metadata": {},
      "outputs": [
        {
          "name": "stdout",
          "output_type": "stream",
          "text": [
            "================================================================================\n",
            "LOSS:\n",
            "0.33455008989960927\n",
            "================================================================================\n",
            "WEIGHTS:\n",
            "[[-0.0053 -0.582  -0.2723]\n",
            " [ 0.3793 -0.5204  0.1896]]\n",
            "[-0.014   0.5607 -0.0628]\n",
            "[[ 0.1528]\n",
            " [-0.1745]\n",
            " [-0.1135]]\n",
            "[-0.5516]\n",
            "================================================================================\n",
            "UPDATED WEIGHTS:\n",
            "[[ 0.03748801 -0.62894595 -0.30494714]\n",
            " [ 0.42208242 -0.5673459   0.156948  ]]\n",
            "[ 0.02878801  0.51375407 -0.09545201]\n",
            "[[0.8341824 ]\n",
            " [0.25095794]\n",
            " [0.4228859 ]]\n",
            "[0.60529804]\n"
          ]
        }
      ],
      "source": [
        "x = np.array([[1,1]]); \n",
        "y = np.array([[0]])  \n",
        "W = [\n",
        "    np.array([[-0.0053, 0.3793],\n",
        "              [-0.5820, -0.5204],\n",
        "              [-0.2723, 0.1896]], dtype=np.float32).T, \n",
        "    np.array([-0.0140, 0.5607, -0.0628], dtype=np.float32), \n",
        "    np.array([[ 0.1528, -0.1745, -0.1135]], dtype=np.float32).T, \n",
        "    np.array([-0.5516], dtype=np.float32)\n",
        "]\n",
        "line()\n",
        "print('Loss:'.upper())\n",
        "print(feed_forward(x,y,W))\n",
        "line()\n",
        "print('Weights:'.upper())\n",
        "[print(w) for w in W]\n",
        "line()\n",
        "print('Updated Weights:'.upper())\n",
        "for epx in range(1):\n",
        "    updated_weights, _ = update_weights(x,y,W,1)\n",
        "[print(w) for w in updated_weights];"
      ]
    },
    {
      "cell_type": "code",
      "execution_count": 14,
      "metadata": {},
      "outputs": [],
      "source": [
        "pre_hidden = np.dot(x, W[0]) + W[1]\n",
        "hidden = 1/(1+np.exp(-pre_hidden))\n",
        "predicted_value = np.dot(hidden, W[2]) + W[3]"
      ]
    },
    {
      "cell_type": "code",
      "execution_count": 15,
      "metadata": {},
      "outputs": [
        {
          "name": "stdout",
          "output_type": "stream",
          "text": [
            "0.03748860333147175 0.037488014\n"
          ]
        }
      ],
      "source": [
        "tmp = W[0][0][0] - (-2*(0-(predicted_value[0][0]))*(W[2][0][0])*hidden[0,0]*(1-hidden[0,0])*x[0][0])\n",
        "print(tmp, updated_weights[0][0][0])"
      ]
    },
    {
      "cell_type": "code",
      "execution_count": 16,
      "metadata": {
        "ExecuteTime": {
          "end_time": "2020-09-24T13:23:28.012629Z",
          "start_time": "2020-09-24T13:23:28.009257Z"
        },
        "colab": {
          "base_uri": "https://localhost:8080/",
          "height": 34
        },
        "id": "bIzE0_CD4ePv",
        "outputId": "8f64a525-9fc3-4e69-efa6-29538785a885"
      },
      "outputs": [
        {
          "name": "stdout",
          "output_type": "stream",
          "text": [
            "-0.6289373468565382 -0.62894595\n"
          ]
        }
      ],
      "source": [
        "tmp = W[0][0][1] - (-2*(0-(predicted_value[0][0]))*(W[2][1][0])*hidden[0,1]*(1-hidden[0,1])*x[0][0])\n",
        "print(tmp, updated_weights[0][0][1])"
      ]
    },
    {
      "cell_type": "code",
      "execution_count": 17,
      "metadata": {
        "ExecuteTime": {
          "end_time": "2020-09-24T13:23:28.016777Z",
          "start_time": "2020-09-24T13:23:28.013578Z"
        },
        "colab": {
          "base_uri": "https://localhost:8080/",
          "height": 34
        },
        "id": "eBYFpMD58Zg4",
        "outputId": "8182e49a-3300-49f1-edf2-5e29d69946e9"
      },
      "outputs": [
        {
          "name": "stdout",
          "output_type": "stream",
          "text": [
            "-0.304951263947996 0.037488014\n"
          ]
        }
      ],
      "source": [
        "tmp = W[0][0][2] - (-2*(0-(predicted_value[0][0]))*(W[2][2][0])*hidden[0,2]*(1-hidden[0,2])*x[0][0])\n",
        "print(tmp, updated_weights[0][0][0])"
      ]
    },
    {
      "cell_type": "code",
      "execution_count": 18,
      "metadata": {
        "ExecuteTime": {
          "end_time": "2020-09-24T13:23:28.021124Z",
          "start_time": "2020-09-24T13:23:28.018197Z"
        },
        "colab": {
          "base_uri": "https://localhost:8080/",
          "height": 34
        },
        "id": "e5bsJzF88ZrM",
        "outputId": "021e7318-fc42-49f9-89d2-5565d362498f"
      },
      "outputs": [
        {
          "name": "stdout",
          "output_type": "stream",
          "text": [
            "0.42208860145914084 0.42208242\n"
          ]
        }
      ],
      "source": [
        "tmp = W[0][1][0] - (-2*(0-(predicted_value[0][0]))*(W[2][0][0])*hidden[0,0]*(1-hidden[0,0])*x[0][1])\n",
        "print(tmp, updated_weights[0][1][0])"
      ]
    },
    {
      "cell_type": "code",
      "execution_count": 19,
      "metadata": {
        "ExecuteTime": {
          "end_time": "2020-09-24T13:23:28.025464Z",
          "start_time": "2020-09-24T13:23:28.022264Z"
        },
        "colab": {
          "base_uri": "https://localhost:8080/",
          "height": 34
        },
        "id": "coHgQaMI9R3N",
        "outputId": "021e7318-fc42-49f9-89d2-5565d362498f"
      },
      "outputs": [
        {
          "name": "stdout",
          "output_type": "stream",
          "text": [
            "-0.5673373173880019 -0.5673459\n"
          ]
        }
      ],
      "source": [
        "tmp = W[0][1][1] - (-2*(0-(predicted_value[0][0]))*(W[2][1][0])*hidden[0,1]*(1-hidden[0,1])*x[0][1])\n",
        "print(tmp, updated_weights[0][1][1])"
      ]
    },
    {
      "cell_type": "code",
      "execution_count": 20,
      "metadata": {
        "ExecuteTime": {
          "end_time": "2020-09-24T13:23:28.030294Z",
          "start_time": "2020-09-24T13:23:28.026871Z"
        },
        "colab": {
          "base_uri": "https://localhost:8080/",
          "height": 34
        },
        "id": "XEbiE6xc9R3P",
        "outputId": "021e7318-fc42-49f9-89d2-5565d362498f"
      },
      "outputs": [
        {
          "name": "stdout",
          "output_type": "stream",
          "text": [
            "0.15694874675699821 0.156948\n"
          ]
        }
      ],
      "source": [
        "tmp = W[0][1][2] - (-2*(0-(predicted_value[0][0]))*(W[2][2][0])*hidden[0,2]*(1-hidden[0,2])*x[0][1])\n",
        "print(tmp, updated_weights[0][1][2])"
      ]
    },
    {
      "cell_type": "code",
      "execution_count": 21,
      "metadata": {
        "ExecuteTime": {
          "end_time": "2020-09-24T13:23:28.035074Z",
          "start_time": "2020-09-24T13:23:28.031407Z"
        },
        "colab": {
          "base_uri": "https://localhost:8080/",
          "height": 34
        },
        "id": "sD1NsccW9R3R",
        "outputId": "021e7318-fc42-49f9-89d2-5565d362498f"
      },
      "outputs": [
        {
          "name": "stdout",
          "output_type": "stream",
          "text": [
            "0.028788602743620932 0.028788012\n"
          ]
        }
      ],
      "source": [
        "tmp = W[1][0] - (-2*(0-(predicted_value[0][0]))*hidden[0,0]*(1-hidden[0,0])*W[2][0][0])\n",
        "print(tmp, updated_weights[1][0])"
      ]
    },
    {
      "cell_type": "code",
      "execution_count": 22,
      "metadata": {
        "ExecuteTime": {
          "end_time": "2020-09-24T13:23:28.038822Z",
          "start_time": "2020-09-24T13:23:28.036075Z"
        },
        "colab": {
          "base_uri": "https://localhost:8080/",
          "height": 34
        },
        "id": "90aX0GVu9R3U",
        "outputId": "021e7318-fc42-49f9-89d2-5565d362498f"
      },
      "outputs": [
        {
          "name": "stdout",
          "output_type": "stream",
          "text": [
            "0.5137626696420274 0.51375407\n"
          ]
        }
      ],
      "source": [
        "tmp = W[1][1] - (-2*(0-(predicted_value[0][0]))*hidden[0,1]*(1-hidden[0,1])*W[2][1][0])\n",
        "print(tmp, updated_weights[1][1])"
      ]
    },
    {
      "cell_type": "code",
      "execution_count": 23,
      "metadata": {
        "ExecuteTime": {
          "end_time": "2020-09-24T13:23:28.042770Z",
          "start_time": "2020-09-24T13:23:28.039723Z"
        },
        "colab": {
          "base_uri": "https://localhost:8080/",
          "height": 34
        },
        "id": "vP3P_DvO9R3W",
        "outputId": "021e7318-fc42-49f9-89d2-5565d362498f"
      },
      "outputs": [
        {
          "name": "stdout",
          "output_type": "stream",
          "text": [
            "-0.0954512566166247 -0.09545201\n"
          ]
        }
      ],
      "source": [
        "tmp = W[1][2] - (-2*(0-(predicted_value[0][0]))*hidden[0,2]*(1-hidden[0,2])*W[2][2][0])\n",
        "print(tmp, updated_weights[1][2])"
      ]
    },
    {
      "cell_type": "code",
      "execution_count": 24,
      "metadata": {
        "ExecuteTime": {
          "end_time": "2020-09-24T13:23:28.046332Z",
          "start_time": "2020-09-24T13:23:28.043797Z"
        },
        "colab": {
          "base_uri": "https://localhost:8080/",
          "height": 34
        },
        "id": "D0tTvkLV9R3Z",
        "outputId": "021e7318-fc42-49f9-89d2-5565d362498f"
      },
      "outputs": [
        {
          "name": "stdout",
          "output_type": "stream",
          "text": [
            "0.8342055621416937 0.8341824\n"
          ]
        }
      ],
      "source": [
        "tmp = W[2][0][0]-(-2*(0-(predicted_value[0][0]))*hidden[0][0])\n",
        "print(tmp, updated_weights[2][0][0])"
      ]
    },
    {
      "cell_type": "code",
      "execution_count": 25,
      "metadata": {
        "ExecuteTime": {
          "end_time": "2020-09-24T13:23:28.050423Z",
          "start_time": "2020-09-24T13:23:28.047373Z"
        },
        "colab": {
          "base_uri": "https://localhost:8080/",
          "height": 34
        },
        "id": "eJkFiIgG9R3b",
        "outputId": "021e7318-fc42-49f9-89d2-5565d362498f"
      },
      "outputs": [
        {
          "name": "stdout",
          "output_type": "stream",
          "text": [
            "0.2509642654210383 0.25095794\n"
          ]
        }
      ],
      "source": [
        "tmp = W[2][1][0]-(-2*(0-(predicted_value[0][0]))*hidden[0][1])\n",
        "print(tmp, updated_weights[2][1][0])"
      ]
    },
    {
      "cell_type": "code",
      "execution_count": 26,
      "metadata": {
        "ExecuteTime": {
          "end_time": "2020-09-24T13:23:28.053986Z",
          "start_time": "2020-09-24T13:23:28.051400Z"
        },
        "colab": {
          "base_uri": "https://localhost:8080/",
          "height": 34
        },
        "id": "YQ6B8fA-9R3d",
        "outputId": "021e7318-fc42-49f9-89d2-5565d362498f"
      },
      "outputs": [
        {
          "name": "stdout",
          "output_type": "stream",
          "text": [
            "0.422898309408289 0.4228859\n"
          ]
        }
      ],
      "source": [
        "tmp = W[2][2][0]-(-2*(0-(predicted_value[0][0]))*hidden[0][2])\n",
        "print(tmp, updated_weights[2][2][0])"
      ]
    },
    {
      "cell_type": "code",
      "execution_count": 27,
      "metadata": {
        "ExecuteTime": {
          "end_time": "2020-09-24T13:23:28.057470Z",
          "start_time": "2020-09-24T13:23:28.054896Z"
        },
        "colab": {
          "base_uri": "https://localhost:8080/",
          "height": 34
        },
        "id": "DYInbxAt9R3g",
        "outputId": "021e7318-fc42-49f9-89d2-5565d362498f"
      },
      "outputs": [
        {
          "name": "stdout",
          "output_type": "stream",
          "text": [
            "0.6052061234525776 0.60529804\n"
          ]
        }
      ],
      "source": [
        "tmp = W[3][0]-(-2*(0-(predicted_value[0][0])))\n",
        "print(tmp, updated_weights[3][0])"
      ]
    },
    {
      "cell_type": "code",
      "execution_count": null,
      "metadata": {
        "id": "7LtMWS6c3nBP"
      },
      "outputs": [],
      "source": []
    }
  ],
  "metadata": {
    "colab": {
      "collapsed_sections": [],
      "name": "Chain_rule.ipynb",
      "provenance": []
    },
    "kernelspec": {
      "display_name": "Python 3.9.12 ('base')",
      "language": "python",
      "name": "python3"
    },
    "language_info": {
      "codemirror_mode": {
        "name": "ipython",
        "version": 3
      },
      "file_extension": ".py",
      "mimetype": "text/x-python",
      "name": "python",
      "nbconvert_exporter": "python",
      "pygments_lexer": "ipython3",
      "version": "3.9.12"
    },
    "vscode": {
      "interpreter": {
        "hash": "40d3a090f54c6569ab1632332b64b2c03c39dcf918b08424e98f38b5ae0af88f"
      }
    }
  },
  "nbformat": 4,
  "nbformat_minor": 0
}
