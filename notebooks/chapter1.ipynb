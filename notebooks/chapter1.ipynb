{
  "cells": [
    {
      "cell_type": "markdown",
      "metadata": {},
      "source": [
        "[![Open in Colab](https://colab.research.google.com/assets/colab-badge.svg)](https://colab.research.google.com/github/Ecotrust/DL-Training/blob/main/notebooks/chapter1.ipynb)\n"
      ]
    },
    {
      "cell_type": "markdown",
      "metadata": {},
      "source": [
        "Notes from Chapter 1 of the book \"Modern computer vision with pytorch\" by V. Kishore Ayyadevara and Yeshwanth Reddy (2020).\n",
        "\n",
        "This notebook was modified from the original version available [here](https://github.com/PacktPublishing/Modern-Computer-Vision-with-PyTorch/blob/master/Chapter01/Chain_rule.ipynb)."
      ]
    },
    {
      "cell_type": "markdown",
      "metadata": {
        "id": "1BH_Y4RhiQzB"
      },
      "source": [
        "# Artificial Neural Networks \n",
        "\n",
        "Artificial neural networks (ANNs) are a class of machine learning algorithms inspired by the human brain's biological neural networks (BNNs). BNNs are composed of billions of neurons connected to each other, forming a powerful processing unit that allows us to interact with our environment, learn from it, and adapt to it. As depicted in the figure below, our sensory system collects and encodes information from the environment and sends it to the brain, where it is processed and evaluated against prior experiences to trigger appropriate responses.\n",
        "\n",
        "<fugure>\n",
        "    <img src=\"figures/fig21_pandya_and_macy.jpg\" width=\"500\">\n",
        "    <figcaption>From A.S. Pandya and R.B. Macy. 1996. Pattern recognition with neural networks in C++. CRC Press, Florida.</figcaption>\n",
        "</figure>\n",
        "\n",
        "ANNs aims to replicate how individual neurons process and transfer information in the brain. Neurons are the brain's basic processing units, composed of a cell body, dendrites, and an axon. The cell body contains the nucleus and the cytoplasm, the site of the neuron's metabolic activity. Dendrites are the input structures of the neuron, and they receive signals from other neurons. The axon is the output structure of the neuron, and it transmits signals to other neurons. If you want to learn more about how neurons communicate with each other, you can check out this [video](https://youtu.be/OvVl8rOEncE).\n",
        "\n",
        "The artificial neuron is a computational model that emulates some properties of biological neurons (see figure below). The simplest neuron architecture is composed of a set of inputs (analogous to dendrites), a set of weights (analogous to synapses),  and an activation function (analogous to the neuron action potential mechanism). The inputs are signals/data fed to the neurons from an input layer or other neurons. The weights modulate the importance of the information, analogous to the strength of the synapsis connecting two neurons. The activation function is a non-linear function that determines the neuron's output. \n",
        "\n",
        "<fugure>\n",
        "    <img src=\"figures/neuron_perceptron.svg\" width=\"1000\">\n",
        "    <figcaption>Modified from <a href=\"https://www.khanacademy.org/test-prep/mcat/organ-systems/neural-synapses/a/signal-propagation-the-movement-of-signals-between-neurons\">Khan Academy</a></figcaption>\n",
        "</figure>\n",
        "\n",
        "\n",
        "# Deep Learning Fundamentals\n",
        "\n",
        "Modern deep learning algorithms involve two main subroutines: \n",
        "- **Feedforward propagation**: During this stage, the data is feed into the model and the output and an error associated with it are computed. A series of operations are performed on the data to extract features, that is patterns or \"motifs\" that are useful to predict a given output, such as faces or objects, edge detection, etc.\n",
        "\n",
        "- **Backpropagation**: Consist of finding the set of parameters that minimizes the error between model predictions and the input data. This is done by computing the gradient of the error function with respect to the parameters and updating the parameters in the opposite direction of the gradient. This is done iteratively until the error is acceptable for the task at hand."
      ]
    },
    {
      "cell_type": "markdown",
      "metadata": {},
      "source": [
        "## Feedforward propagation\n",
        "\n",
        "There are three steps involved in feedforward propagation: pre-activation, activation, and post-activation. During pre-activation, the hidden layer is obtained by computing the product of inputs and weights (dot product for matrices). During activation, we apply a non-linear activation function $f$ to the hidden layer. Finally, the post-activation consist in the computation of the sum of products of the hidden layer activation values and the weights to produce the output $\\hat y$. A cost function is then used to compute the prediction error or loss. \n",
        "\n",
        "The output is typically calculated as follows:\n",
        "\n",
        "$\\hat y = f(b_i + \\sum_{i=1}^{n} w_ix_i)$\n",
        "\n",
        "where \n",
        "\n",
        "$\\hat y$ is the output or prediction outcome as a continuous or discrete variable.\n",
        "\n",
        "$f$ is the activation function.\n",
        "\n",
        "$b$ is the bias term.\n",
        "\n",
        "$w_i$ are the weights that link input, hidden, and output layers.\n",
        "\n",
        "$x_i$ are the input values. \n",
        "\n",
        "As an example, consider a network with two inputs, one hidden layer with three neurons, and one output as shown in the figure below. \n",
        "\n",
        "<fugure>\n",
        "    <img src=\"figures/3neuron_arch.png\" width=\"500\">\n",
        "    <figcaption>Modified from figure in page 17, Ch.1</figcaption>\n",
        "</figure>\n",
        "\n",
        "To think in our network architecture in more concrete terms, lets add some synthetic data. \n",
        "\n",
        "$x = \\begin{pmatrix} 1 & 1 \\end{pmatrix}$\n",
        "\n",
        "$w^h = \\begin{pmatrix}-0.0053 & -0.582 & -0.2723\\\\\\ 0.3793 & -0.5204 & 0.1896 \\end{pmatrix}$ \n",
        "\n",
        "$w^o = \\begin{pmatrix}0.1528\\\\\\ -0.1745\\\\\\ -0.1135 \\end{pmatrix}$\n",
        "\n",
        "$b^h = \\begin{pmatrix} -0.0140 & 0.5607 & -0.0628 \\end{pmatrix}$\n",
        "\n",
        "$b^o = \\begin{pmatrix} -0.5516 \\end{pmatrix}$\n",
        "\n",
        "$y = 0$\n",
        "\n",
        "Our input layer is $x$, $w^h$ is the weight matrix connecting the input and hidden layers, $b^h$ are the bias associated with the hidden layer, $w^o$ are the weights connecting the hidden layer and the output, $b^o$ is the bias associated with the output, and $y$ is a continuous variable with the observation we want to predict. The first pass of feedforward propagation uses an arbitrary selection (usually a random sample) of weights and bias. \n",
        "\n",
        "Note that $w^h$ have 2(inputs) x 3(neurons) = 6 weights and $w^o$ has 3(neurons) = 3 weights. \n",
        "\n",
        "Let's implement each step of the feedforward propagation in python."
      ]
    },
    {
      "cell_type": "code",
      "execution_count": 1,
      "metadata": {},
      "outputs": [
        {
          "name": "stdout",
          "output_type": "stream",
          "text": [
            "[[ 0.36  -0.542 -0.145]]\n"
          ]
        }
      ],
      "source": [
        "import numpy as np \n",
        "\n",
        "# Set x, w (weights for input and hidden layers), and w0 (bias for input and hidden layers)\n",
        "x = np.array([[1, 1]])\n",
        "w_h = np.array([[-0.0053, -0.582 , -0.2723],\n",
        "                [ 0.3793, -0.5204,  0.1896]], dtype=np.float32)\n",
        "w_o = np.array([[ 0.1528], [-0.1745], [-0.1135]], dtype=np.float32)\n",
        "b_h = np.array([-0.0140, 0.5607, -0.0628], dtype=np.float32)\n",
        "b_o = np.array([-0.5516], dtype=np.float32)\n",
        "\n",
        "# Compute hidden layer\n",
        "h = (x @ w_h) + b_h\n",
        "print(np.round(h,3))"
      ]
    },
    {
      "cell_type": "markdown",
      "metadata": {},
      "source": [
        "### Activation function \n",
        "\n",
        "The activation function allows to introduce non-linearity into the model. It determines which neurons are activated (i.e. pass a non-zero value to the next layer) and which are set to zero. The most common activation functions are the rectified linear unit or ReLU, tanh, and sigmoid.\n",
        "\n",
        "Let's apply a sigmoid activation, defined as follows:\n",
        "\n",
        "$f(x) = \\frac{1}{1 + e^{-x}}$\n"
      ]
    },
    {
      "cell_type": "code",
      "execution_count": 2,
      "metadata": {},
      "outputs": [
        {
          "name": "stdout",
          "output_type": "stream",
          "text": [
            "f(h) = [[0.589 0.368 0.464]]\n"
          ]
        }
      ],
      "source": [
        "# Compute activation. One value for each node in the hidden layer.\n",
        "f_h = 1/(1 + np.exp(-h))\n",
        "print(\"f(h) =\", np.round(f_h, 3))"
      ]
    },
    {
      "cell_type": "markdown",
      "metadata": {},
      "source": [
        "After activation, we can compute the network output y_hat. We use the same procedure used to compute the hidden layer, but this time we calculate the dot product of the activation and the weights associated with the output layer plus the output bias."
      ]
    },
    {
      "cell_type": "code",
      "execution_count": 3,
      "metadata": {},
      "outputs": [
        {
          "name": "stdout",
          "output_type": "stream",
          "text": [
            "y_hat = [[-0.578]]\n"
          ]
        }
      ],
      "source": [
        "# Compute output value y_hat\n",
        "y_hat = (f_h @ w_o) + b_o\n",
        "print(\"y_hat =\", np.round(y_hat, 3))"
      ]
    },
    {
      "cell_type": "markdown",
      "metadata": {},
      "source": [
        "### Loss function\n",
        "\n",
        "The loss function is used to compute the error between the model prediction and the observed value. There are many ways to estimate the loss. A widely used loss function for continuos problems (e.g. predicting housing prices) is the mean squared error (MSE), which is defined as: \n",
        "\n",
        "$MSE = \\frac{1}{n}\\sum_{i=1}^{n}(y_i - \\hat{y}_i)^2$\n",
        "\n",
        "where\n",
        "\n",
        "$y_i$ is the observed value.\n",
        "\n",
        "$\\hat{y}_i$ is the predicted value.\n",
        "\n",
        "Another common loss function is the cross-entropy loss, which is used for classification problems (e.g. land use/cover classification). It is defined as:\n",
        "\n",
        "$CE = -\\frac{1}{n}\\sum_{i=1}^{n}y_i\\log(\\hat{y}_i)$\n",
        "\n",
        "For this example we use the MSE loss function. \n",
        "\n",
        "The observed value is y = 0 and n = 1 because we have only one prediction, thus \n",
        "\n",
        "$MSE = \\frac{1}{1}(0 - (-0.578))^2 = (0.578)^2$\n",
        "\n"
      ]
    },
    {
      "cell_type": "code",
      "execution_count": 4,
      "metadata": {},
      "outputs": [
        {
          "name": "stdout",
          "output_type": "stream",
          "text": [
            "loss = [[0.335]]\n"
          ]
        }
      ],
      "source": [
        "# Compute loss\n",
        "loss = np.square(y_hat)\n",
        "print('loss =', np.round(loss, 3)) "
      ]
    },
    {
      "cell_type": "markdown",
      "metadata": {
        "id": "G7mc04emjTCa"
      },
      "source": [
        "# Backpropagation\n",
        "\n",
        "During backpropagation, the weights are adjusted to minimize the error (loss). The process consists of adjusting the weights one at a time by a small amount.\n",
        "\n",
        "Steps:\n",
        "\n",
        "1. Change one weight at a time by adding a small amount to it.\n",
        "2. Calculate the change in the loss induced by this change.\n",
        "3. Update the weight by $-k \\frac {\\delta L}{\\delta W}$, where $k$ is the learning rate and $\\frac {\\delta L}{\\delta W}$ is the change in the loss induced by the change in the weight, aka the gradient.\n",
        "4. Repeat steps 1-3 n *epochs* or iterations over the entire dataset.\n",
        "\n",
        "<fugure>\n",
        "    <img src=\"figures/3neuron_arch_bp.png\" width=\"500\">\n",
        "</figure>\n"
      ]
    },
    {
      "cell_type": "markdown",
      "metadata": {},
      "source": [
        "To see the steps involved in backpropagation more clearly, let's update only one weight from $w_h$, say $w^h_{11}$. Later on we will define some methods to perform the operations automatically on all weights."
      ]
    },
    {
      "cell_type": "code",
      "execution_count": 5,
      "metadata": {},
      "outputs": [
        {
          "name": "stdout",
          "output_type": "stream",
          "text": [
            "original weight: -0.0053 \n",
            "updated weight = -0.00102 \n",
            "original y_hat = [[-0.5784]] \n",
            "new y_hat = [[-0.57824]] \n",
            "gradient = [[-0.043]] \n",
            "original loss = [[0.335]] \n",
            "new loss = [[0.334]]\n"
          ]
        }
      ],
      "source": [
        "# Copy w_h to preserve the original weights for later use\n",
        "from copy import deepcopy\n",
        "w_h_tmp = deepcopy(w_h) \n",
        "w_h_updated = deepcopy(w_h)\n",
        "\n",
        "# Change the first weight in w_h by an arbitrary small amount.\n",
        "w_h_tmp[0][0] = w_h[0][0] + 0.0001\n",
        "\n",
        "# Re-compute the loss with the modified weight\n",
        "# We need to re-compute all feedforward propagation steps\n",
        "# although in this case we use the temporal weight matrix w_h_tmp\n",
        "h = (x @ w_h_tmp) + b_h\n",
        "f_h = 1/(1 + np.exp(-h))\n",
        "tmp_y_hat = (f_h @ w_o) + b_o\n",
        "tmp_loss = np.square(tmp_y_hat)\n",
        "\n",
        "# Compute the gradient of the loss with respect to the first weight in w_h\n",
        "grad = (tmp_loss - loss) / 0.0001\n",
        "\n",
        "# Calculate new weight using a learning rate of 0.1\n",
        "w_h_updated[0][0] = w_h[0][0] - 0.1 * grad\n",
        "\n",
        "# Re-compute the loss with the updated weight\n",
        "h = (x @ w_h_updated) + b_h\n",
        "f_h = 1/(1 + np.exp(-h))\n",
        "new_y_hat = (f_h @ w_o) + b_o\n",
        "new_loss = np.square(new_y_hat)\n",
        "\n",
        "print(\n",
        "    'original weight:', np.round(w_h[0][0], 4),\n",
        "    '\\nupdated weight =', np.round(w_h_updated[0][0], 5),\n",
        "    '\\noriginal y_hat =', np.round(y_hat, 5),\n",
        "    '\\nnew y_hat =', np.round(new_y_hat, 5),\n",
        "    '\\ngradient =', np.round(grad, 3),\n",
        "    '\\noriginal loss =', np.round(loss, 3),\n",
        "    '\\nnew loss =', np.round(new_loss, 3)\n",
        ")"
      ]
    },
    {
      "cell_type": "markdown",
      "metadata": {},
      "source": [
        "In the results above, note that new_loss < loss and that the new prediction new_y_hat also improved slightly over y_hat. By appliying the same steps on all weights and bias, we can iteratively improve the model until the loss is acceptable. An **epoch** is a complete pass over the entire dataset, where all elements in $w^h$, $w^o$, $b^h$, and $b^o$ are adjusted.\n",
        "\n",
        "Let's see the effect of adjusting weights and bias over multiple epochs. To make the process more efficient, we will define one function to perform feedforward and one to perform backpropagation."
      ]
    },
    {
      "cell_type": "code",
      "execution_count": 6,
      "metadata": {
        "ExecuteTime": {
          "end_time": "2020-09-24T13:23:27.984719Z",
          "start_time": "2020-09-24T13:23:27.929962Z"
        },
        "id": "i5WpgCBbm_Jc"
      },
      "outputs": [],
      "source": [
        "def feed_forward(x, y, W):\n",
        "    '''Implements feedfordward propagation from scratch.\n",
        "    \n",
        "    Parameters\n",
        "    ----------\n",
        "    x: array\n",
        "      Input layer <- training data\n",
        "    y: array\n",
        "      Observations <- this is what we want to predict.\n",
        "    W: list\n",
        "      Weights and bias for input, hidden, and output layers.\n",
        "    \n",
        "    Returns\n",
        "    -------\n",
        "    float\n",
        "      Loss as the Mean Square Error (MSE).\n",
        "    '''\n",
        "    # Pre-activation\n",
        "    # Calculate hidden layer as the product w_i*x_i (dot product for matrix multiplication) plus the bias.\n",
        "    # W[0] = w_h, the weights connecting input layer with hidden layer. \n",
        "    # W[1] = b_h, the bias associated with the hidden layer.\n",
        "    h = np.dot(x, W[0]) + W[1]\n",
        "    \n",
        "    # Activation\n",
        "    # Apply f as a sigmoid activation function.\n",
        "    f_h = 1/(1+np.exp(-h))\n",
        "\n",
        "    # Post-activation\n",
        "    # Calculate the output layer (a)\n",
        "    # W[2] = w_o, the weights connecting the hidden layer with the output layer. \n",
        "    # W[3] = b_o, the bias associated with the output layer.\n",
        "    y_hat = np.dot(f_h, W[2]) + W[3]\n",
        "    \n",
        "    # Calculate the loss as the MSE \n",
        "    mean_squared_error = np.mean(np.square(y - y_hat))\n",
        "\n",
        "    return mean_squared_error\n",
        "\n",
        "\n",
        "def update_weights(x, y, W, k):\n",
        "    '''Implements gradient descent from scratch.\n",
        "    \n",
        "    Parameters\n",
        "    ----------\n",
        "    x: array\n",
        "      Input layer with training data\n",
        "    y: array\n",
        "      Observations we want to predict\n",
        "    W: list \n",
        "      Weights and bias for input, hidden, and output layers\n",
        "    k: float\n",
        "      Learning rate\n",
        "    \n",
        "    Returns\n",
        "    -------\n",
        "    (list, list)\n",
        "      Tuple with list of updated weights and list of original weights\n",
        "    '''\n",
        "    # Create copies of the original weights list.\n",
        "    original_weights = deepcopy(W)\n",
        "    temp_weights = deepcopy(W)\n",
        "    updated_weights = deepcopy(W)\n",
        "\n",
        "    # Calculate loss with original set of weights.\n",
        "    original_loss = feed_forward(x, y, original_weights)\n",
        "\n",
        "    # Iterate through each weight in W. \n",
        "    for i, layer in enumerate(original_weights):\n",
        "        for index, weight in np.ndenumerate(layer):\n",
        "            temp_weights = deepcopy(W)\n",
        "            # Update one weight at a time by a small amount.\n",
        "            temp_weights[i][index] += 0.0001\n",
        "            # Re-calculate loss with updated weight.\n",
        "            _loss_plus = feed_forward(x, y, temp_weights)\n",
        "            # Calculate the gradient of the loss with respect to the weight.\n",
        "            grad = (_loss_plus - original_loss)/(0.0001)\n",
        "            # Reduce the weight in proportion to the gradient multiplied by the learning rate (k).\n",
        "            updated_weights[i][index] -= k*grad\n",
        "\n",
        "    return updated_weights, original_loss"
      ]
    },
    {
      "cell_type": "markdown",
      "metadata": {},
      "source": [
        "We'll use the same data as previously, but for convenience we'll pack it to feed it to the functions."
      ]
    },
    {
      "cell_type": "code",
      "execution_count": 7,
      "metadata": {
        "ExecuteTime": {
          "end_time": "2020-09-24T13:23:28.000882Z",
          "start_time": "2020-09-24T13:23:27.991191Z"
        },
        "colab": {
          "base_uri": "https://localhost:8080/"
        },
        "id": "Vp9I03hRnh2G",
        "outputId": "1f911858-3eb9-4b19-c281-9c46f845c48b"
      },
      "outputs": [],
      "source": [
        "# Observations\n",
        "y = np.array([[0]])  \n",
        "# Pack all weights and bias into a list \n",
        "W = [w_h, b_h, w_o, b_o]"
      ]
    },
    {
      "cell_type": "code",
      "execution_count": 8,
      "metadata": {},
      "outputs": [
        {
          "data": {
            "text/plain": [
              "Text(0.5, 1.0, 'Loss over increasing number of epochs')"
            ]
          },
          "execution_count": 8,
          "metadata": {},
          "output_type": "execute_result"
        },
        {
          "data": {
            "image/png": "[encoded data removed]",
            "text/plain": [
              "<Figure size 432x288 with 1 Axes>"
            ]
          },
          "metadata": {
            "needs_background": "light"
          },
          "output_type": "display_data"
        }
      ],
      "source": [
        "import matplotlib.pyplot as plt\n",
        "\n",
        "epochs = 100\n",
        "k = 0.01\n",
        "losses = []\n",
        "w = deepcopy(W)\n",
        "for epoch in range(epochs):\n",
        "    w, loss = update_weights(x,y,w,k)\n",
        "    losses.append(loss)\n",
        "plt.plot(losses)\n",
        "plt.title('Loss over increasing number of epochs')"
      ]
    },
    {
      "cell_type": "markdown",
      "metadata": {
        "id": "3llIoQD7xMJf"
      },
      "source": [
        "# Backpropagation using the Chain Rule\n",
        "\n",
        "So far we studied a way to implement **gradient descent** using brute force to estimate the gradient, which involves computing $h_i$, $f(h_i)$, $\\hat y$, and the loss for every weight and bias. This is not a very efficient way to perform backpropagation.\n",
        "\n",
        "The chain rule allows us to compute the gradient analytically, which offers a shortcut that save us several steps. The algorithm consist of calculating the gradient wrt each weight and bias in the network using the product of its partial derivatives, that is the individual components that contribute to the gradient. For example, the gradient of the loss wrt $w^h_{11}$ is:\n",
        "\n",
        "change in loss wrt $w^h_{11}$ = change in loss wrt $\\hat y$ * change in $\\hat y$ wrt $f(h_1)$ * change in $f(h_1)$ wrt $h_1$ * change in $h_1$ wrt $w^h_{11}$\n",
        "\n",
        "Using derivative notation, the expression above looks like this:\n",
        "\n",
        "$\\frac {\\delta L}{\\delta w^h_{11}} = \\frac {\\delta L}{\\delta \\hat y} \\cdot \\frac {\\delta \\hat y}{\\delta f(h_1)} \\cdot \\frac {\\delta f(h_1)}{\\delta h_1} \\cdot \\frac {\\delta h_1}{\\delta w^h_{11}}$\n",
        "\n",
        "The Figure below depicts the partial derivates contributing to the gradient of the loss wrt $w^h_{11}$.\n",
        "\n",
        "<fugure>\n",
        "    <img src=\"figures/3neuron_chain_rule.png\" width=\"500\">\n",
        "</figure>\n",
        "\n",
        "Solving the partial derivatives and simplifying (see details in pages 35-36 of the book), the equation becomes:\n",
        "\n",
        "$\\frac {\\delta L}{\\delta w^h_{11}} = -2 \\cdot (y - \\hat y) \\cdot w^o_{1} \\cdot f(h_1) \\cdot (1 - f(h_1)) \\cdot x_1$"
      ]
    },
    {
      "cell_type": "markdown",
      "metadata": {},
      "source": [
        "Let's confirm that using the chain rule yiels the same result we obtained before to update weights. "
      ]
    },
    {
      "cell_type": "code",
      "execution_count": 9,
      "metadata": {
        "ExecuteTime": {
          "end_time": "2020-09-24T13:23:28.004119Z",
          "start_time": "2020-09-24T13:23:28.001851Z"
        },
        "id": "fSSV-hAcufCd"
      },
      "outputs": [],
      "source": [
        "h = np.dot(x, w_h) + b_h\n",
        "f_h = 1/(1+np.exp(-h))\n",
        "y_hat = np.dot(f_h, w_o) + b_o\n",
        "\n",
        "# Extract individual values\n",
        "y_hat_1 = y_hat[0][0]\n",
        "y = 0 \n",
        "w_11 = w_h[0][0]\n",
        "w_o_1 = w_o[0][0]\n",
        "f_h_1 = f_h[0, 0]\n",
        "x_1 = x[0][0]"
      ]
    },
    {
      "cell_type": "code",
      "execution_count": 10,
      "metadata": {
        "ExecuteTime": {
          "end_time": "2020-09-24T13:23:28.008250Z",
          "start_time": "2020-09-24T13:23:28.004921Z"
        },
        "colab": {
          "base_uri": "https://localhost:8080/",
          "height": 34
        },
        "id": "juDL0c_fwp0c",
        "outputId": "2cbf40fa-41ad-4b42-bc94-56b2496f2dfe"
      },
      "outputs": [
        {
          "name": "stdout",
          "output_type": "stream",
          "text": [
            "Brute force w_11: -0.00487\n",
            "Chain rule w_11: -0.00487\n"
          ]
        }
      ],
      "source": [
        "# Update weights by brute force\n",
        "updated_weights, _ = update_weights(x, y, W, .01)\n",
        "print('Brute-force w_11:', np.round(updated_weights[0][0][0], 5))\n",
        "\n",
        "# Update weights using the chain rule\n",
        "w_11_updated = w_11 - (.01) * -2 * (y - y_hat_1) * (w_o_1) * f_h_1 * (1 - f_h_1) * x_1\n",
        "print('Chain rule w_11:', np.round(w_11_updated, 5))"
      ]
    },
    {
      "cell_type": "markdown",
      "metadata": {},
      "source": [
        "updated_weights[0][0][0]"
      ]
    },
    {
      "cell_type": "code",
      "execution_count": 11,
      "metadata": {},
      "outputs": [],
      "source": [
        "def update_weights_cr(w, w_o, f_h, x, k):\n",
        "    '''Update weights using the Chain Rule.\n",
        "\n",
        "    Parameters\n",
        "    ----------\n",
        "    w: float\n",
        "        Weight to modify\n",
        "    w_o: float\n",
        "        Partial derivative of y_hat wrt f_h. \n",
        "    f_h: float\n",
        "        Activation value of the hidden layer.\n",
        "    x: int\n",
        "        Input value \n",
        "    k: float\n",
        "        Learning rate\n",
        "\n",
        "    Returns\n",
        "    -------\n",
        "    float \n",
        "        New weight value.\n",
        "    '''\n",
        "    return w - k * (-2 * (y - y_hat) * (w_o) * f_h * (1 - f_h) * x)"
      ]
    },
    {
      "cell_type": "code",
      "execution_count": 13,
      "metadata": {},
      "outputs": [
        {
          "data": {
            "text/html": [
              "<div>\n",
              "<style scoped>\n",
              "    .dataframe tbody tr th:only-of-type {\n",
              "        vertical-align: middle;\n",
              "    }\n",
              "\n",
              "    .dataframe tbody tr th {\n",
              "        vertical-align: top;\n",
              "    }\n",
              "\n",
              "    .dataframe thead th {\n",
              "        text-align: right;\n",
              "    }\n",
              "</style>\n",
              "<table border=\"1\" class=\"dataframe\">\n",
              "  <thead>\n",
              "    <tr style=\"text-align: right;\">\n",
              "      <th></th>\n",
              "      <th>w_h</th>\n",
              "      <th>w_o</th>\n",
              "      <th>f_h</th>\n",
              "      <th>update_weights</th>\n",
              "      <th>update_weights_cr</th>\n",
              "    </tr>\n",
              "  </thead>\n",
              "  <tbody>\n",
              "    <tr>\n",
              "      <th>0</th>\n",
              "      <td>-0.0053</td>\n",
              "      <td>0.1528</td>\n",
              "      <td>0.589040</td>\n",
              "      <td>-0.004872</td>\n",
              "      <td>-0.004872</td>\n",
              "    </tr>\n",
              "    <tr>\n",
              "      <th>1</th>\n",
              "      <td>-0.5820</td>\n",
              "      <td>-0.1745</td>\n",
              "      <td>0.367792</td>\n",
              "      <td>-0.582469</td>\n",
              "      <td>-0.582469</td>\n",
              "    </tr>\n",
              "    <tr>\n",
              "      <th>2</th>\n",
              "      <td>-0.2723</td>\n",
              "      <td>-0.1135</td>\n",
              "      <td>0.463689</td>\n",
              "      <td>-0.272626</td>\n",
              "      <td>-0.272627</td>\n",
              "    </tr>\n",
              "    <tr>\n",
              "      <th>3</th>\n",
              "      <td>0.3793</td>\n",
              "      <td>0.1528</td>\n",
              "      <td>0.589040</td>\n",
              "      <td>0.379728</td>\n",
              "      <td>0.379728</td>\n",
              "    </tr>\n",
              "    <tr>\n",
              "      <th>4</th>\n",
              "      <td>-0.5204</td>\n",
              "      <td>-0.1745</td>\n",
              "      <td>0.367792</td>\n",
              "      <td>-0.520869</td>\n",
              "      <td>-0.520869</td>\n",
              "    </tr>\n",
              "    <tr>\n",
              "      <th>5</th>\n",
              "      <td>0.1896</td>\n",
              "      <td>-0.1135</td>\n",
              "      <td>0.463689</td>\n",
              "      <td>0.189273</td>\n",
              "      <td>0.189273</td>\n",
              "    </tr>\n",
              "  </tbody>\n",
              "</table>\n",
              "</div>"
            ],
            "text/plain": [
              "      w_h     w_o       f_h  update_weights  update_weights_cr\n",
              "0 -0.0053  0.1528  0.589040       -0.004872          -0.004872\n",
              "1 -0.5820 -0.1745  0.367792       -0.582469          -0.582469\n",
              "2 -0.2723 -0.1135  0.463689       -0.272626          -0.272627\n",
              "3  0.3793  0.1528  0.589040        0.379728           0.379728\n",
              "4 -0.5204 -0.1745  0.367792       -0.520869          -0.520869\n",
              "5  0.1896 -0.1135  0.463689        0.189273           0.189273"
            ]
          },
          "execution_count": 13,
          "metadata": {},
          "output_type": "execute_result"
        }
      ],
      "source": [
        "# Update w_h weights.\n",
        "import pandas as pd\n",
        "\n",
        "df = pd.DataFrame(columns=['w_h', 'w_o', 'f_h', 'update_weights', 'update_weights_cr'])\n",
        "\n",
        "# Extract parameters.\n",
        "df['w_h'] = W[0].flatten()\n",
        "df['w_o'] = np.array([w_o, w_o]).flatten()\n",
        "df['f_h'] = np.array([f_h[0], f_h[0]]).flatten()\n",
        "\n",
        "# Calculate new weights using update_weights function (for comparison).\n",
        "df['update_weights'] = updated_weights[0].flatten()\n",
        "\n",
        "# Calculate new weights using the Chain Rule.\n",
        "df['update_weights_cr'] = df.apply(lambda row: update_weights_cr(row['w_h'], row['w_o'], row['f_h'], 1, .01)[0][0], axis=1)\n",
        "df"
      ]
    },
    {
      "cell_type": "code",
      "execution_count": null,
      "metadata": {},
      "outputs": [],
      "source": []
    }
  ],
  "metadata": {
    "colab": {
      "collapsed_sections": [],
      "name": "Chain_rule.ipynb",
      "provenance": []
    },
    "kernelspec": {
      "display_name": "Python 3.9.12 ('dl-env')",
      "language": "python",
      "name": "python3"
    },
    "language_info": {
      "codemirror_mode": {
        "name": "ipython",
        "version": 3
      },
      "file_extension": ".py",
      "mimetype": "text/x-python",
      "name": "python",
      "nbconvert_exporter": "python",
      "pygments_lexer": "ipython3",
      "version": "3.9.13"
    },
    "vscode": {
      "interpreter": {
        "hash": "22b4c44e3c50a171eec18a53d4a2ddea7382ccef91107100631ee18d9931920c"
      }
    }
  },
  "nbformat": 4,
  "nbformat_minor": 0
}
