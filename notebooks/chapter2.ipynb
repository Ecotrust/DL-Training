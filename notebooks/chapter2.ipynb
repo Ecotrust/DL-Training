{
 "cells": [
  {
   "cell_type": "markdown",
   "metadata": {},
   "source": [
    "[![Open in Colab](https://colab.research.google.com/assets/colab-badge.svg)](https://colab.research.google.com/github/Ecotrust/DL-Training/blob/main/notebooks/chapter2.ipynb)"
   ]
  },
  {
   "cell_type": "markdown",
   "metadata": {},
   "source": [
    "Notes from Chapter 2 of the book \"Modern computer vision with pytorch\" by V. Kishore Ayyadevara and Yeshwanth Reddy (2020).\n",
    "\n",
    "This notebook was modified from the original version available [here.](https://github.com/PacktPublishing/Modern-Computer-Vision-with-PyTorch/blob/master/Chapter02/Building_a_neural_network_using_PyTorch_on_a_toy_dataset.ipynb)"
   ]
  },
  {
   "cell_type": "code",
   "execution_count": 1,
   "metadata": {},
   "outputs": [],
   "source": [
    "import torch\n",
    "import torch.nn as nn\n",
    "from torch.optim import SGD"
   ]
  },
  {
   "cell_type": "markdown",
   "metadata": {},
   "source": [
    "# Tensors"
   ]
  },
  {
   "cell_type": "code",
   "execution_count": 7,
   "metadata": {},
   "outputs": [
    {
     "data": {
      "text/plain": [
       "torch.Size([2, 4])"
      ]
     },
     "execution_count": 7,
     "metadata": {},
     "output_type": "execute_result"
    }
   ],
   "source": [
    "# Create a tensor of size 2x4\n",
    "x = torch.tensor([[1,2,3,4], [5,6,7,8]])\n",
    "x.shape"
   ]
  },
  {
   "cell_type": "code",
   "execution_count": 3,
   "metadata": {},
   "outputs": [
    {
     "data": {
      "text/plain": [
       "torch.Size([4, 2])"
      ]
     },
     "execution_count": 3,
     "metadata": {},
     "output_type": "execute_result"
    }
   ],
   "source": [
    "# Reshape the tensor\n",
    "x = x.view(4,2)\n",
    "x.shape"
   ]
  },
  {
   "cell_type": "code",
   "execution_count": 14,
   "metadata": {},
   "outputs": [
    {
     "data": {
      "text/plain": [
       "torch.Size([4, 2])"
      ]
     },
     "execution_count": 14,
     "metadata": {},
     "output_type": "execute_result"
    }
   ],
   "source": [
    "# Set dim m, infer n\n",
    "x.view(-1, 2).shape\n"
   ]
  },
  {
   "cell_type": "code",
   "execution_count": 13,
   "metadata": {},
   "outputs": [
    {
     "data": {
      "text/plain": [
       "torch.Size([4, 2])"
      ]
     },
     "execution_count": 13,
     "metadata": {},
     "output_type": "execute_result"
    }
   ],
   "source": [
    "# Set dim n, infer m\n",
    "x.view(4, -1).shape"
   ]
  },
  {
   "cell_type": "code",
   "execution_count": 4,
   "metadata": {},
   "outputs": [
    {
     "name": "stdout",
     "output_type": "stream",
     "text": [
      "torch.Size([10, 1, 10]) torch.Size([10, 10]) torch.Size([10, 1, 10])\n"
     ]
    }
   ],
   "source": [
    "# Squeeze - remove dimensions of size 1\n",
    "x = torch.randn(10,1,10)\n",
    "xs = x.squeeze(1)\n",
    "xu = xs.unsqueeze(1)\n",
    "print(x.shape, xs.shape, xu.shape)"
   ]
  },
  {
   "cell_type": "code",
   "execution_count": 5,
   "metadata": {},
   "outputs": [
    {
     "name": "stdout",
     "output_type": "stream",
     "text": [
      "cat axis 0: torch.Size([10, 10, 10]) torch.Size([20, 10, 10])\n"
     ]
    }
   ],
   "source": [
    "# Concatenate tensors\n",
    "x = torch.randn(10,10,10)\n",
    "z = torch.cat([x,x], axis=0)\n",
    "print('cat axis 0:', x.shape, z.shape)"
   ]
  },
  {
   "cell_type": "code",
   "execution_count": 6,
   "metadata": {},
   "outputs": [
    {
     "name": "stdout",
     "output_type": "stream",
     "text": [
      "Max: torch.Size([5, 5]) tensor(24)\n",
      "Max in axis 1:\n",
      " tensor([ 4,  9, 14, 19, 24]) tensor([4, 4, 4, 4, 4])\n"
     ]
    }
   ],
   "source": [
    "# Get max value.\n",
    "x = torch.arange(25).reshape(5,5)\n",
    "print('Max:', x.shape, x.max())\n",
    "\n",
    "m, argm = x.max(dim=1)\n",
    "print('Max in axis 1:\\n', m, argm)"
   ]
  },
  {
   "cell_type": "code",
   "execution_count": 74,
   "metadata": {},
   "outputs": [
    {
     "name": "stdout",
     "output_type": "stream",
     "text": [
      "Permute dimensions: torch.Size([10, 20, 30]) torch.Size([30, 10, 20])\n"
     ]
    }
   ],
   "source": [
    "# Permute dimensions\n",
    "x = torch.randn(10,20,30)\n",
    "z = x.permute(2,0,1) # np.permute()\n",
    "print('Permute dimensions:', x.shape, z.shape)"
   ]
  },
  {
   "cell_type": "code",
   "execution_count": 67,
   "metadata": {},
   "outputs": [
    {
     "name": "stdout",
     "output_type": "stream",
     "text": [
      "tensor([11, 35]) tensor([11, 35])\n"
     ]
    }
   ],
   "source": [
    "# Matrix multiplication\n",
    "x = torch.tensor([[1,2,3,4], [5,6,7,8]])\n",
    "y = torch.tensor([2, 3, 1, 0])\n",
    "print(\n",
    "    torch.matmul(x, y), #or\n",
    "    x @ y\n",
    "    )"
   ]
  },
  {
   "cell_type": "code",
   "execution_count": 77,
   "metadata": {},
   "outputs": [
    {
     "name": "stdout",
     "output_type": "stream",
     "text": [
      "tensor([[ 2., -1.],\n",
      "        [ 1.,  1.]], requires_grad=True)\n",
      "tensor([[ 4., -2.],\n",
      "        [ 2.,  2.]])\n"
     ]
    }
   ],
   "source": [
    "# Compute the gradient of a function on a tensor.\n",
    "x = torch.tensor([[2., -1.], [1., 1.]], requires_grad=True)\n",
    "out = x.pow(2).sum()\n",
    "out.backward()\n",
    "print(x)\n",
    "print(x.grad)"
   ]
  },
  {
   "cell_type": "markdown",
   "metadata": {},
   "source": [
    "# Build a neural network using PyTorch"
   ]
  },
  {
   "cell_type": "code",
   "execution_count": 2,
   "metadata": {},
   "outputs": [],
   "source": [
    "# Generate some data.   \n",
    "x = [[1,2],[3,4],[5,6],[7,8]]\n",
    "y = [[3],[7],[11],[15]]\n",
    "\n",
    "# Convert data to tensors.\n",
    "X = torch.tensor(x).float()\n",
    "Y = torch.tensor(y).float()\n",
    "\n",
    "# Register X and Y to the CUDA device.\n",
    "device = 'cuda' if torch.cuda.is_available() else 'cpu'\n",
    "X = X.to(device)\n",
    "Y = Y.to(device)"
   ]
  },
  {
   "cell_type": "code",
   "execution_count": 3,
   "metadata": {},
   "outputs": [],
   "source": [
    "# Create a class to compose the neural network architecture.\n",
    "class MyNeuralNet(nn.Module):\n",
    "    def __init__(self):\n",
    "        super().__init__()\n",
    "        # Three-layer network architecture.\n",
    "        # nn.Linear applies the linear transformation to w_i * x_i + b_i\n",
    "        self.input_to_hidden_layer = nn.Linear(2,8)\n",
    "        # nn.ReLU applies the rectified linear unit activation function to the hidden layer.\n",
    "        self.hidden_layer_activation = nn.ReLU()\n",
    "        # nn.Linear applies the linear transformation to the activated layer: w_o * x_o + b_o\n",
    "        self.hidden_to_output_layer = nn.Linear(8,1)\n",
    "        \n",
    "    def forward(self, x):\n",
    "        '''\n",
    "        Forward propagation of the neural network.\n",
    "\n",
    "        Parameters\n",
    "        ----------\n",
    "        x : torch.Tensor\n",
    "\n",
    "        Returns \n",
    "        -------\n",
    "        torch.Tensor\n",
    "        '''\n",
    "        x = self.input_to_hidden_layer(x)\n",
    "        x = self.hidden_layer_activation(x)\n",
    "        x = self.hidden_to_output_layer(x)\n",
    "        \n",
    "        return x "
   ]
  },
  {
   "cell_type": "code",
   "execution_count": 4,
   "metadata": {},
   "outputs": [],
   "source": [
    "# Initialize the neural network and register it to the CUDA device.\n",
    "mynet = MyNeuralNet().to(device)"
   ]
  },
  {
   "cell_type": "code",
   "execution_count": 5,
   "metadata": {},
   "outputs": [
    {
     "data": {
      "text/plain": [
       "Parameter containing:\n",
       "tensor([[ 0.2566,  0.1135],\n",
       "        [-0.4845, -0.4214],\n",
       "        [ 0.5874,  0.1528],\n",
       "        [ 0.3283, -0.0888],\n",
       "        [ 0.4346,  0.0599],\n",
       "        [ 0.1190,  0.3589],\n",
       "        [ 0.4171,  0.0274],\n",
       "        [-0.3873,  0.6259]], device='cuda:0', requires_grad=True)"
      ]
     },
     "execution_count": 5,
     "metadata": {},
     "output_type": "execute_result"
    }
   ],
   "source": [
    "# Access weights and bias.\n",
    "mynet.input_to_hidden_layer.weight"
   ]
  },
  {
   "cell_type": "code",
   "execution_count": 6,
   "metadata": {},
   "outputs": [
    {
     "data": {
      "text/plain": [
       "[Parameter containing:\n",
       " tensor([[ 0.2566,  0.1135],\n",
       "         [-0.4845, -0.4214],\n",
       "         [ 0.5874,  0.1528],\n",
       "         [ 0.3283, -0.0888],\n",
       "         [ 0.4346,  0.0599],\n",
       "         [ 0.1190,  0.3589],\n",
       "         [ 0.4171,  0.0274],\n",
       "         [-0.3873,  0.6259]], device='cuda:0', requires_grad=True),\n",
       " Parameter containing:\n",
       " tensor([ 0.1424, -0.4524,  0.3043, -0.1884,  0.0985, -0.2625, -0.0328,  0.0841],\n",
       "        device='cuda:0', requires_grad=True),\n",
       " Parameter containing:\n",
       " tensor([[ 0.0398,  0.2202, -0.1658,  0.2670, -0.2435,  0.1019, -0.2274,  0.1656]],\n",
       "        device='cuda:0', requires_grad=True),\n",
       " Parameter containing:\n",
       " tensor([0.2340], device='cuda:0', requires_grad=True)]"
      ]
     },
     "execution_count": 6,
     "metadata": {},
     "output_type": "execute_result"
    }
   ],
   "source": [
    "# Print all parameters.\n",
    "list(mynet.parameters())"
   ]
  },
  {
   "cell_type": "code",
   "execution_count": 7,
   "metadata": {},
   "outputs": [
    {
     "name": "stdout",
     "output_type": "stream",
     "text": [
      "tensor(114.4128, device='cuda:0', grad_fn=<MseLossBackward0>)\n"
     ]
    }
   ],
   "source": [
    "# Initialize the loss function.\n",
    "loss_func = nn.MSELoss()\n",
    "\n",
    "# Compute forward pass and loss.\n",
    "_Y = mynet(X)\n",
    "loss_value = loss_func(_Y,Y)\n",
    "print(loss_value)"
   ]
  },
  {
   "cell_type": "code",
   "execution_count": 8,
   "metadata": {},
   "outputs": [],
   "source": [
    "# Implement Stochastic Gradient Descent (SGD) to optimize the loss function with learning rate lr.\n",
    "opt = SGD(mynet.parameters(), lr = 0.001)\n",
    "\n",
    "# Minimize loss over 50 epochs.\n",
    "loss_history = []\n",
    "for _ in range(50):\n",
    "    # Reset gradients from optimized tensors to zero.\n",
    "    opt.zero_grad()\n",
    "    # Calculate loss.\n",
    "    loss_value = loss_func(mynet(X),Y)\n",
    "    # Perform backpropagation.\n",
    "    loss_value.backward()\n",
    "    # Update weights.\n",
    "    opt.step()\n",
    "    # Record loss.\n",
    "    loss_history.append(loss_value)"
   ]
  },
  {
   "cell_type": "code",
   "execution_count": 9,
   "metadata": {},
   "outputs": [
    {
     "data": {
      "text/plain": [
       "defaultdict(dict,\n",
       "            {Parameter containing:\n",
       "             tensor([[ 0.3825,  0.2600],\n",
       "                     [-0.4845, -0.4214],\n",
       "                     [ 0.6441,  0.2168],\n",
       "                     [ 0.5795,  0.2052],\n",
       "                     [ 0.3617, -0.0273],\n",
       "                     [ 0.3111,  0.5829],\n",
       "                     [ 0.3385, -0.0663],\n",
       "                     [-0.1724,  0.8771]], device='cuda:0', requires_grad=True): {'momentum_buffer': None},\n",
       "             Parameter containing:\n",
       "             tensor([ 0.1630, -0.4524,  0.3115, -0.1455,  0.0841, -0.2306, -0.0480,  0.1204],\n",
       "                    device='cuda:0', requires_grad=True): {'momentum_buffer': None},\n",
       "             Parameter containing:\n",
       "             tensor([[ 0.3874,  0.2202,  0.3881,  0.5599,  0.0333,  0.5452, -0.0041,  0.5432]],\n",
       "                    device='cuda:0', requires_grad=True): {'momentum_buffer': None},\n",
       "             Parameter containing:\n",
       "             tensor([0.3567], device='cuda:0', requires_grad=True): {'momentum_buffer': None}})"
      ]
     },
     "execution_count": 9,
     "metadata": {},
     "output_type": "execute_result"
    }
   ],
   "source": [
    "opt.zero_grad()\n",
    "opt.state"
   ]
  },
  {
   "cell_type": "code",
   "execution_count": 10,
   "metadata": {},
   "outputs": [
    {
     "data": {
      "text/plain": [
       "Text(0, 0.5, 'loss value')"
      ]
     },
     "execution_count": 10,
     "metadata": {},
     "output_type": "execute_result"
    },
    {
     "data": {
      "image/png": "[encoded data removed]",
      "text/plain": [
       "<Figure size 432x288 with 1 Axes>"
      ]
     },
     "metadata": {
      "needs_background": "light"
     },
     "output_type": "display_data"
    }
   ],
   "source": [
    "import matplotlib.pyplot as plt\n",
    "%matplotlib inline\n",
    "# Convert tensor to numpy array before plotting.\n",
    "plt.plot([x.cpu().data.numpy() for x in loss_history])\n",
    "plt.title('Loss variation over increasing epochs')\n",
    "plt.xlabel('epochs')\n",
    "plt.ylabel('loss value')"
   ]
  },
  {
   "cell_type": "code",
   "execution_count": 11,
   "metadata": {},
   "outputs": [],
   "source": [
    "# DataLoader and batch size.\n",
    "from torch.utils.data import Dataset, DataLoader"
   ]
  },
  {
   "cell_type": "code",
   "execution_count": 12,
   "metadata": {},
   "outputs": [],
   "source": [
    "class MyDataset(Dataset):\n",
    "    def __init__(self, x, y, device='cuda'):\n",
    "        self.x = torch.tensor(x).float()\n",
    "        self.y = torch.tensor(y).float()\n",
    "\n",
    "        if device == 'cuda':\n",
    "            self.x = self.x.to(device)\n",
    "            self.y = self.y.to(device)\n",
    "\n",
    "    def __len__(self):\n",
    "        return len(self.x)\n",
    "\n",
    "    def __getitem__(self, ix):\n",
    "        return self.x[ix], self.y[ix]\n",
    "\n",
    "ds = MyDataset(x, y)"
   ]
  },
  {
   "cell_type": "code",
   "execution_count": 13,
   "metadata": {},
   "outputs": [],
   "source": [
    "dl = DataLoader(ds, batch_size=2, shuffle=True)"
   ]
  },
  {
   "cell_type": "code",
   "execution_count": 14,
   "metadata": {},
   "outputs": [],
   "source": [
    "mynet = MyNeuralNet().to(device)\n",
    "loss_func = nn.MSELoss()\n",
    "from torch.optim import SGD\n",
    "opt = SGD(mynet.parameters(), lr = 0.001)"
   ]
  },
  {
   "cell_type": "code",
   "execution_count": 15,
   "metadata": {},
   "outputs": [
    {
     "name": "stdout",
     "output_type": "stream",
     "text": [
      "0.10391521453857422\n"
     ]
    }
   ],
   "source": [
    "# Loop over the dataset dl.\n",
    "import time\n",
    "\n",
    "loss_history = []\n",
    "start = time.time()\n",
    "for _ in range(50):\n",
    "    for data in dl:\n",
    "        x, y = data\n",
    "        opt.zero_grad()\n",
    "        loss_value = loss_func(mynet(x),y)\n",
    "        loss_value.backward()\n",
    "        opt.step()\n",
    "        loss_history.append(loss_value)\n",
    "end = time.time()\n",
    "print(end - start)"
   ]
  },
  {
   "cell_type": "code",
   "execution_count": 16,
   "metadata": {},
   "outputs": [
    {
     "data": {
      "text/plain": [
       "tensor([[21.0164]], device='cuda:0', grad_fn=<AddmmBackward0>)"
      ]
     },
     "execution_count": 16,
     "metadata": {},
     "output_type": "execute_result"
    }
   ],
   "source": [
    "# Predict new data.\n",
    "val_x = [[10,11]]\n",
    "val_x = torch.tensor(val_x).float().to(device)\n",
    "\n",
    "# Pass val_x through the trained neural network.\n",
    "mynet(val_x)"
   ]
  },
  {
   "cell_type": "code",
   "execution_count": 18,
   "metadata": {},
   "outputs": [
    {
     "name": "stdout",
     "output_type": "stream",
     "text": [
      "tensor(7.5731e-05, device='cuda:0', grad_fn=<MeanBackward0>)\n"
     ]
    }
   ],
   "source": [
    "# Custom loss function. \n",
    "\n",
    "def my_mean_squared_error(_y, y):\n",
    "    loss = (_y-y)**2\n",
    "    loss = loss.mean()\n",
    "    return loss\n",
    "\n",
    "custom_mse = my_mean_squared_error(mynet(X), Y)\n",
    "print(custom_mse)"
   ]
  },
  {
   "cell_type": "code",
   "execution_count": 19,
   "metadata": {},
   "outputs": [
    {
     "name": "stdout",
     "output_type": "stream",
     "text": [
      "tensor(7.5731e-05, device='cuda:0', grad_fn=<MseLossBackward0>)\n"
     ]
    }
   ],
   "source": [
    "loss_func = nn.MSELoss()\n",
    "loss_value = loss_func(mynet(X),Y)\n",
    "print(loss_value)"
   ]
  },
  {
   "cell_type": "code",
   "execution_count": 21,
   "metadata": {},
   "outputs": [
    {
     "name": "stdout",
     "output_type": "stream",
     "text": [
      "tensor([[ 0.0000,  0.0000,  2.5525,  0.0000,  0.0000,  0.4436,  0.0000,  0.0000],\n",
      "        [ 0.0000,  0.0000,  6.2383,  0.0000,  0.0000,  1.7507,  0.0000,  0.0000],\n",
      "        [ 0.0000,  0.0000,  9.9241,  0.0000,  0.0000,  3.0578,  0.0000,  0.0000],\n",
      "        [ 0.0000,  0.0000, 13.6098,  0.0000,  0.0000,  4.3648,  0.0000,  0.0000]],\n",
      "       device='cuda:0', grad_fn=<ReluBackward0>)\n"
     ]
    }
   ],
   "source": [
    "# Fetching intermediate layers.\n",
    "input_to_hidden = mynet.input_to_hidden_layer(X)\n",
    "hiden_activation = mynet.hidden_layer_activation(input_to_hidden)\n",
    "print(hiden_activation)"
   ]
  },
  {
   "cell_type": "code",
   "execution_count": 22,
   "metadata": {},
   "outputs": [],
   "source": [
    "# Using nn.Sequential to compose the neural network architecture.\n",
    "model = nn.Sequential(\n",
    "    nn.Linear(2,8),\n",
    "    nn.ReLU(),\n",
    "    nn.Linear(8,1)\n",
    ").to(device)"
   ]
  },
  {
   "cell_type": "code",
   "execution_count": 23,
   "metadata": {},
   "outputs": [
    {
     "name": "stdout",
     "output_type": "stream",
     "text": [
      "==========================================================================================\n",
      "Layer (type:depth-idx)                   Output Shape              Param #\n",
      "==========================================================================================\n",
      "├─Linear: 1-1                            [-1, 8]                   24\n",
      "├─ReLU: 1-2                              [-1, 8]                   --\n",
      "├─Linear: 1-3                            [-1, 1]                   9\n",
      "==========================================================================================\n",
      "Total params: 33\n",
      "Trainable params: 33\n",
      "Non-trainable params: 0\n",
      "Total mult-adds (M): 0.00\n",
      "==========================================================================================\n",
      "Input size (MB): 0.00\n",
      "Forward/backward pass size (MB): 0.00\n",
      "Params size (MB): 0.00\n",
      "Estimated Total Size (MB): 0.00\n",
      "==========================================================================================\n"
     ]
    },
    {
     "data": {
      "text/plain": [
       "==========================================================================================\n",
       "Layer (type:depth-idx)                   Output Shape              Param #\n",
       "==========================================================================================\n",
       "├─Linear: 1-1                            [-1, 8]                   24\n",
       "├─ReLU: 1-2                              [-1, 8]                   --\n",
       "├─Linear: 1-3                            [-1, 1]                   9\n",
       "==========================================================================================\n",
       "Total params: 33\n",
       "Trainable params: 33\n",
       "Non-trainable params: 0\n",
       "Total mult-adds (M): 0.00\n",
       "==========================================================================================\n",
       "Input size (MB): 0.00\n",
       "Forward/backward pass size (MB): 0.00\n",
       "Params size (MB): 0.00\n",
       "Estimated Total Size (MB): 0.00\n",
       "=========================================================================================="
      ]
     },
     "execution_count": 23,
     "metadata": {},
     "output_type": "execute_result"
    }
   ],
   "source": [
    "from torchsummary import summary\n",
    "\n",
    "summary(model, torch.zeros(1,2))\n"
   ]
  },
  {
   "cell_type": "code",
   "execution_count": 25,
   "metadata": {},
   "outputs": [
    {
     "data": {
      "text/plain": [
       "tensor([[-2.1286],\n",
       "        [-2.8093],\n",
       "        [-0.0622]], device='cuda:0', grad_fn=<AddmmBackward0>)"
      ]
     },
     "execution_count": 25,
     "metadata": {},
     "output_type": "execute_result"
    }
   ],
   "source": [
    "val = [[8,9],[10,11],[1.5,2.5]]\n",
    "model(torch.tensor(val).float().to(device))\n"
   ]
  },
  {
   "cell_type": "code",
   "execution_count": 26,
   "metadata": {},
   "outputs": [
    {
     "data": {
      "text/plain": [
       "tensor([[-2.1286],\n",
       "        [-2.8093],\n",
       "        [-0.0622]], device='cuda:0', grad_fn=<AddmmBackward0>)"
      ]
     },
     "execution_count": 26,
     "metadata": {},
     "output_type": "execute_result"
    }
   ],
   "source": [
    "# Save pytorch model.\n",
    "torch.save(model.state_dict(), 'mymodel.pth')\n",
    "\n",
    "# Load pytorch model.\n",
    "model = nn.Sequential(\n",
    "    nn.Linear(2, 8),\n",
    "    nn.ReLU(),\n",
    "    nn.Linear(8, 1)\n",
    ").to(device)\n",
    "\n",
    "state_dict = torch.load('mymodel.pth')\n",
    "model.load_state_dict(state_dict)\n",
    "model.to(device)\n",
    "model(torch.tensor(val).float().to(device))"
   ]
  },
  {
   "cell_type": "code",
   "execution_count": null,
   "metadata": {},
   "outputs": [],
   "source": []
  }
 ],
 "metadata": {
  "kernelspec": {
   "display_name": "Python 3.9.12 ('dl-env')",
   "language": "python",
   "name": "python3"
  },
  "language_info": {
   "codemirror_mode": {
    "name": "ipython",
    "version": 3
   },
   "file_extension": ".py",
   "mimetype": "text/x-python",
   "name": "python",
   "nbconvert_exporter": "python",
   "pygments_lexer": "ipython3",
   "version": "3.9.13"
  },
  "orig_nbformat": 4,
  "vscode": {
   "interpreter": {
    "hash": "22b4c44e3c50a171eec18a53d4a2ddea7382ccef91107100631ee18d9931920c"
   }
  }
 },
 "nbformat": 4,
 "nbformat_minor": 2
}
